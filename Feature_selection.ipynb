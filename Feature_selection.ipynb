{
  "nbformat": 4,
  "nbformat_minor": 0,
  "metadata": {
    "colab": {
      "provenance": [],
      "mount_file_id": "1cs8I4KFl3GMHygLFVctiMLG-ypn3IiFX",
      "authorship_tag": "ABX9TyPJmNI75DPawdrzjcEqIKxE",
      "include_colab_link": true
    },
    "kernelspec": {
      "name": "python3",
      "display_name": "Python 3"
    },
    "language_info": {
      "name": "python"
    }
  },
  "cells": [
    {
      "cell_type": "markdown",
      "metadata": {
        "id": "view-in-github",
        "colab_type": "text"
      },
      "source": [
        "<a href=\"https://colab.research.google.com/github/Pham223phuong/python-mini-projects/blob/master/Feature_selection.ipynb\" target=\"_parent\"><img src=\"https://colab.research.google.com/assets/colab-badge.svg\" alt=\"Open In Colab\"/></a>"
      ]
    },
    {
      "cell_type": "code",
      "execution_count": null,
      "metadata": {
        "colab": {
          "base_uri": "https://localhost:8080/"
        },
        "id": "1xlb9AQXKU-h",
        "outputId": "2f4225a9-7cd4-4dd6-98f2-fd098ed3a3c9"
      },
      "outputs": [
        {
          "output_type": "stream",
          "name": "stdout",
          "text": [
            "Drive already mounted at /content/drive; to attempt to forcibly remount, call drive.mount(\"/content/drive\", force_remount=True).\n"
          ]
        }
      ],
      "source": [
        "from google.colab import drive\n",
        "drive.mount('/content/drive')"
      ]
    },
    {
      "cell_type": "code",
      "source": [
        "import pandas as pd\n",
        "import matplotlib.pyplot as plt\n",
        "import seaborn as sns\n",
        "import numpy as np"
      ],
      "metadata": {
        "id": "-oE5TAL6KhDa"
      },
      "execution_count": null,
      "outputs": []
    },
    {
      "cell_type": "code",
      "source": [
        "%%time\n",
        "train = pd.read_excel('/content/drive/MyDrive/ATTACKER/FINAL_train_attacker.xlsx')"
      ],
      "metadata": {
        "colab": {
          "base_uri": "https://localhost:8080/"
        },
        "id": "gKfEsb-aKulY",
        "outputId": "e49ec390-e2f7-47a3-9b11-97b6c7838fcb"
      },
      "execution_count": null,
      "outputs": [
        {
          "output_type": "stream",
          "name": "stdout",
          "text": [
            "CPU times: user 37.7 s, sys: 565 ms, total: 38.3 s\n",
            "Wall time: 39.6 s\n"
          ]
        }
      ]
    },
    {
      "cell_type": "code",
      "source": [
        "print(train)"
      ],
      "metadata": {
        "colab": {
          "base_uri": "https://localhost:8080/"
        },
        "id": "w3BgzD9oPsJ9",
        "outputId": "e42e6939-6018-458e-9d2f-03846f935cb6"
      },
      "execution_count": null,
      "outputs": [
        {
          "output_type": "stream",
          "name": "stdout",
          "text": [
            "          id  label  time_trans        time_1_fixed                   time_1  \\\n",
            "0      11651      0         NaN                 NaT                      NaN   \n",
            "1      48491      0         NaN                 NaT                      NaN   \n",
            "2      42868      0    0.000000 2017-01-23 18:00:32  2017-01-23T18:00:32.69Z   \n",
            "3      68835      1         NaN                 NaT                      NaN   \n",
            "4      73688      1         NaN                 NaT                      NaN   \n",
            "...      ...    ...         ...                 ...                      ...   \n",
            "48025  89571      0  643.028611 2019-08-30 01:08:24     2019-08-30T01:08:24Z   \n",
            "48026  89621      0         NaN                 NaT                      NaN   \n",
            "48027  89649      0         NaN                 NaT                      NaN   \n",
            "48028  89826      1         NaN                 NaT                      NaN   \n",
            "48029  89883      0         NaN                 NaT                      NaN   \n",
            "\n",
            "             time_2_fixed                   time_2  cat_1  cat_2  cat_3  ...  \\\n",
            "0                     NaT                      NaN    NaN    NaN    NaN  ...   \n",
            "1                     NaT                      NaN    NaN    NaN    NaN  ...   \n",
            "2     2017-01-23 18:00:32  2017-01-23T18:00:32.69Z    2.0    1.0    1.0  ...   \n",
            "3                     NaT                      NaN    NaN    NaN    NaN  ...   \n",
            "4                     NaT                      NaN    NaN    NaN    NaN  ...   \n",
            "...                   ...                      ...    ...    ...    ...  ...   \n",
            "48025 2019-09-25 20:10:07     2019-09-25T20:10:07Z    1.0    2.0    1.0  ...   \n",
            "48026                 NaT                      NaN    NaN    NaN    NaN  ...   \n",
            "48027                 NaT                      NaN    NaN    NaN    NaN  ...   \n",
            "48028                 NaT                      NaN    NaN    NaN    NaN  ...   \n",
            "48029                 NaT                      NaN    NaN    NaN    NaN  ...   \n",
            "\n",
            "       unknown_var_17 unknown_var_18  unknown_var_19 unknown_var_20  \\\n",
            "0              2901.0            NaN             NaN            NaN   \n",
            "1                 NaN            2.0             0.0            2.0   \n",
            "2                 NaN            NaN             NaN            NaN   \n",
            "3                 NaN            NaN             NaN            NaN   \n",
            "4                 NaN            NaN             NaN            NaN   \n",
            "...               ...            ...             ...            ...   \n",
            "48025          2185.0            3.0             1.0            3.0   \n",
            "48026             NaN            NaN             NaN            NaN   \n",
            "48027             NaN            NaN             NaN            NaN   \n",
            "48028             NaN            NaN             NaN            NaN   \n",
            "48029             NaN            NaN             NaN            NaN   \n",
            "\n",
            "       social_friend_count  social_sex_info social_subcriber_count  \\\n",
            "0                    285.0              1.0                   64.0   \n",
            "1                   2534.0              0.0                  391.0   \n",
            "2                    653.0              0.0                    0.0   \n",
            "3                      0.0              1.0                    0.0   \n",
            "4                      0.0              0.0                    0.0   \n",
            "...                    ...              ...                    ...   \n",
            "48025                  1.0              1.0                    0.0   \n",
            "48026                  0.0              0.0                    0.0   \n",
            "48027                 24.0              1.0                    0.0   \n",
            "48028                 65.0              0.0                    0.0   \n",
            "48029                  NaN              NaN                    NaN   \n",
            "\n",
            "      social_location_id current_location_country  hometown_location_country  \n",
            "0                    1.0                        1                          1  \n",
            "1                    1.0                        0                          1  \n",
            "2                    1.0                        1                          1  \n",
            "3                    1.0                        1                          1  \n",
            "4                    1.0                        1                          1  \n",
            "...                  ...                      ...                        ...  \n",
            "48025                1.0                        0                          0  \n",
            "48026                1.0                        0                          0  \n",
            "48027                1.0                        0                          0  \n",
            "48028                1.0                        0                          0  \n",
            "48029                NaN                        0                          0  \n",
            "\n",
            "[48030 rows x 59 columns]\n"
          ]
        }
      ]
    },
    {
      "cell_type": "code",
      "source": [
        "train.info()"
      ],
      "metadata": {
        "colab": {
          "base_uri": "https://localhost:8080/"
        },
        "id": "x4KDE1twL3Nl",
        "outputId": "77063fa0-fd11-4ee8-94f8-aa6dff81280e"
      },
      "execution_count": null,
      "outputs": [
        {
          "output_type": "stream",
          "name": "stdout",
          "text": [
            "<class 'pandas.core.frame.DataFrame'>\n",
            "RangeIndex: 48030 entries, 0 to 48029\n",
            "Data columns (total 59 columns):\n",
            " #   Column                     Non-Null Count  Dtype         \n",
            "---  ------                     --------------  -----         \n",
            " 0   id                         48030 non-null  int64         \n",
            " 1   label                      48030 non-null  int64         \n",
            " 2   time_trans                 22991 non-null  float64       \n",
            " 3   time_1_fixed               22991 non-null  datetime64[ns]\n",
            " 4   time_1                     22991 non-null  object        \n",
            " 5   time_2_fixed               22991 non-null  datetime64[ns]\n",
            " 6   time_2                     22991 non-null  object        \n",
            " 7   cat_1                      22991 non-null  float64       \n",
            " 8   cat_2                      22991 non-null  float64       \n",
            " 9   cat_3                      22991 non-null  float64       \n",
            " 10  cat_5                      22991 non-null  float64       \n",
            " 11  date_1                     14139 non-null  object        \n",
            " 12  mul_rate                   22991 non-null  float64       \n",
            " 13   value                     22991 non-null  object        \n",
            " 14  cat_6                      22991 non-null  float64       \n",
            " 15  num_date_review            22991 non-null  float64       \n",
            " 16   review_value              22991 non-null  object        \n",
            " 17  date_2                     22446 non-null  object        \n",
            " 18  date_3                     20894 non-null  object        \n",
            " 19  dob                        22991 non-null  float64       \n",
            " 20  sex                        22991 non-null  float64       \n",
            " 21  location_id                22991 non-null  float64       \n",
            " 22  mer_id                     22991 non-null  object        \n",
            " 23  cat_7                      22991 non-null  float64       \n",
            " 24  trans_currency             12895 non-null  float64       \n",
            " 25  cat_8                      22958 non-null  object        \n",
            " 26  job                        47934 non-null  float64       \n",
            " 27  num_trans_last_month       22991 non-null  float64       \n",
            " 28  cat_9                      22991 non-null  object        \n",
            " 29  cat_10                     22991 non-null  float64       \n",
            " 30  cat_11                     22991 non-null  float64       \n",
            " 31  com_type                   21743 non-null  float64       \n",
            " 32  cat_12                     22300 non-null  object        \n",
            " 33  unknown_var_1              37902 non-null  float64       \n",
            " 34  unknown_var_2              36680 non-null  float64       \n",
            " 35  unknown_var_3              32189 non-null  float64       \n",
            " 36  unknown_var_4              20704 non-null  float64       \n",
            " 37  unknown_var_5              47805 non-null  object        \n",
            " 38  unknown_var_6              45728 non-null  float64       \n",
            " 39  unknown_var_7              32907 non-null  float64       \n",
            " 40  unknown_var_8              25091 non-null  float64       \n",
            " 41  unknown_var_9              32836 non-null  float64       \n",
            " 42  unknown_var_10             32535 non-null  float64       \n",
            " 43  unknown_var_11             48030 non-null  int64         \n",
            " 44  unknown_var_12             22300 non-null  float64       \n",
            " 45  unknown_var_13             22991 non-null  float64       \n",
            " 46  unknown_var_14             22991 non-null  float64       \n",
            " 47  unknown_var_15             22991 non-null  float64       \n",
            " 48  unknown_var_16             26433 non-null  float64       \n",
            " 49  unknown_var_17             18529 non-null  float64       \n",
            " 50  unknown_var_18             21405 non-null  float64       \n",
            " 51  unknown_var_19             21405 non-null  float64       \n",
            " 52  unknown_var_20             21405 non-null  float64       \n",
            " 53  social_friend_count        21644 non-null  float64       \n",
            " 54  social_sex_info            21058 non-null  float64       \n",
            " 55  social_subcriber_count     21644 non-null  float64       \n",
            " 56  social_location_id         22347 non-null  float64       \n",
            " 57  current_location_country   48030 non-null  int64         \n",
            " 58  hometown_location_country  48030 non-null  int64         \n",
            "dtypes: datetime64[ns](2), float64(40), int64(5), object(12)\n",
            "memory usage: 21.6+ MB\n"
          ]
        }
      ]
    },
    {
      "cell_type": "code",
      "source": [
        "def check_value(train):\n",
        "        zero_val = (train == 0.00).astype(int).sum(axis=0)\n",
        "        mis_val = train.isnull().sum()\n",
        "        mis_val_percent = 100 * train.isnull().sum() / len(train)\n",
        "        mz_table = pd.concat([zero_val, mis_val, mis_val_percent], axis=1)\n",
        "        mz_table = mz_table.rename(\n",
        "        columns = {0 : 'Zero Values', 1 : 'Missing Values', 2 : '% Missing'})\n",
        "        # mz_table['Total Zero & Missing Values'] = mz_table['Zero Values'] + mz_table['Missing Values']\n",
        "        # mz_table['% Total Zero & Missing Values'] = 100 * mz_table['Total Zero & Missing Values'] / len(df)\n",
        "        mz_table['Data Type'] = train.dtypes\n",
        "        mz_table = mz_table[\n",
        "            mz_table.iloc[:,1] != 0].sort_values(\n",
        "        '% Missing', ascending=False).round(1)\n",
        "        print (\"Your selected dataframe has \" + str(train.shape[1]) + \" columns and \" + str(train.shape[0]) + \" Rows.\\n\"      \n",
        "            \"There are \" + str(mz_table.shape[0]) +\n",
        "              \" columns that have missing values.\")\n",
        "        return mz_table"
      ],
      "metadata": {
        "id": "_iyYL4XdMxrm"
      },
      "execution_count": null,
      "outputs": []
    },
    {
      "cell_type": "code",
      "source": [
        "Missing_values_table = check_value(train)\n",
        "train_null_tables= Missing_values_table.loc[Missing_values_table['% Missing'] > 30]\n",
        "train_null_tables['Unique'] = [train[col].nunique() for col in train_null_tables.index ]\n",
        "print (train_null_tables)"
      ],
      "metadata": {
        "colab": {
          "base_uri": "https://localhost:8080/"
        },
        "id": "zOB6rt6gMzgB",
        "outputId": "ea2abbd6-e56c-4015-90ed-f7f9b82d4d33"
      },
      "execution_count": null,
      "outputs": [
        {
          "output_type": "stream",
          "name": "stdout",
          "text": [
            "Your selected dataframe has 59 columns and 48030 Rows.\n",
            "There are 54 columns that have missing values.\n",
            "                        Zero Values  Missing Values  % Missing  \\\n",
            "trans_currency                    0           35135       73.2   \n",
            "date_1                            0           33891       70.6   \n",
            "unknown_var_17                    0           29501       61.4   \n",
            "unknown_var_4                     0           27326       56.9   \n",
            "date_3                            0           27136       56.5   \n",
            "social_sex_info                8593           26972       56.2   \n",
            "unknown_var_20                  558           26625       55.4   \n",
            "unknown_var_19                10200           26625       55.4   \n",
            "unknown_var_18                    0           26625       55.4   \n",
            "social_subcriber_count        16636           26386       54.9   \n",
            "social_friend_count            8368           26386       54.9   \n",
            "com_type                          0           26287       54.7   \n",
            "cat_12                            0           25730       53.6   \n",
            "unknown_var_12                 6744           25730       53.6   \n",
            "social_location_id              703           25683       53.5   \n",
            "date_2                            0           25584       53.3   \n",
            "cat_8                             0           25072       52.2   \n",
            "num_trans_last_month              0           25039       52.1   \n",
            "unknown_var_14                  304           25039       52.1   \n",
            "cat_11                        16747           25039       52.1   \n",
            "time_1_fixed                      0           25039       52.1   \n",
            "cat_9                             0           25039       52.1   \n",
            "unknown_var_15                  443           25039       52.1   \n",
            "unknown_var_13                  864           25039       52.1   \n",
            "time_trans                     4800           25039       52.1   \n",
            "cat_10                         1248           25039       52.1   \n",
            "time_2                            0           25039       52.1   \n",
            "mul_rate                      20296           25039       52.1   \n",
            " value                            0           25039       52.1   \n",
            "cat_6                            40           25039       52.1   \n",
            "num_date_review                5485           25039       52.1   \n",
            "cat_7                          9440           25039       52.1   \n",
            "cat_2                             0           25039       52.1   \n",
            "cat_3                             2           25039       52.1   \n",
            "cat_1                             0           25039       52.1   \n",
            " review_value                     0           25039       52.1   \n",
            "time_2_fixed                      0           25039       52.1   \n",
            "time_1                            0           25039       52.1   \n",
            "dob                               0           25039       52.1   \n",
            "sex                            9842           25039       52.1   \n",
            "location_id                       0           25039       52.1   \n",
            "mer_id                            0           25039       52.1   \n",
            "cat_5                             0           25039       52.1   \n",
            "unknown_var_8                   891           22939       47.8   \n",
            "unknown_var_16                  347           21597       45.0   \n",
            "unknown_var_3                     0           15841       33.0   \n",
            "unknown_var_10                12197           15495       32.3   \n",
            "unknown_var_9                  2374           15194       31.6   \n",
            "unknown_var_7                  3050           15123       31.5   \n",
            "\n",
            "                             Data Type  Unique  \n",
            "trans_currency                 float64      34  \n",
            "date_1                          object    1490  \n",
            "unknown_var_17                 float64     480  \n",
            "unknown_var_4                  float64      50  \n",
            "date_3                          object    1656  \n",
            "social_sex_info                float64       2  \n",
            "unknown_var_20                 float64      15  \n",
            "unknown_var_19                 float64      11  \n",
            "unknown_var_18                 float64      14  \n",
            "social_subcriber_count         float64    1450  \n",
            "social_friend_count            float64    2808  \n",
            "com_type                       float64       9  \n",
            "cat_12                          object       8  \n",
            "unknown_var_12                 float64     101  \n",
            "social_location_id             float64      25  \n",
            "date_2                          object    1475  \n",
            "cat_8                           object     204  \n",
            "num_trans_last_month           float64      33  \n",
            "unknown_var_14                 float64     249  \n",
            "cat_11                         float64       5  \n",
            "time_1_fixed            datetime64[ns]   19112  \n",
            "cat_9                           object       5  \n",
            "unknown_var_15                 float64     241  \n",
            "unknown_var_13                 float64      50  \n",
            "time_trans                     float64   13690  \n",
            "cat_10                         float64      10  \n",
            "time_2                          object   16891  \n",
            "mul_rate                       float64     340  \n",
            " value                          object    4404  \n",
            "cat_6                          float64       3  \n",
            "num_date_review                float64     303  \n",
            "cat_7                          float64       5  \n",
            "cat_2                          float64       2  \n",
            "cat_3                          float64       6  \n",
            "cat_1                          float64       2  \n",
            " review_value                   object     583  \n",
            "time_2_fixed            datetime64[ns]   16871  \n",
            "time_1                          object   19415  \n",
            "dob                            float64      71  \n",
            "sex                            float64       2  \n",
            "location_id                    float64      34  \n",
            "mer_id                          object   10160  \n",
            "cat_5                          float64       1  \n",
            "unknown_var_8                  float64    9907  \n",
            "unknown_var_16                 float64       2  \n",
            "unknown_var_3                  float64      78  \n",
            "unknown_var_10                 float64     417  \n",
            "unknown_var_9                  float64    2716  \n",
            "unknown_var_7                  float64     424  \n"
          ]
        },
        {
          "output_type": "stream",
          "name": "stderr",
          "text": [
            "/usr/local/lib/python3.7/dist-packages/ipykernel_launcher.py:3: SettingWithCopyWarning: \n",
            "A value is trying to be set on a copy of a slice from a DataFrame.\n",
            "Try using .loc[row_indexer,col_indexer] = value instead\n",
            "\n",
            "See the caveats in the documentation: https://pandas.pydata.org/pandas-docs/stable/user_guide/indexing.html#returning-a-view-versus-a-copy\n",
            "  This is separate from the ipykernel package so we can avoid doing imports until\n"
          ]
        }
      ]
    },
    {
      "cell_type": "code",
      "source": [
        "total = train.isnull().sum().sort_values(ascending=False)\n",
        "percent = (train.isnull().sum()/train.isnull().count()).sort_values(ascending=False)\n",
        "missing_data = pd.concat([total, percent], axis=1, keys=['Total', 'Percent'])\n",
        "f, ax = plt.subplots(figsize=(15, 6))\n",
        "plt.xticks(rotation='90')\n",
        "sns.barplot(x=missing_data.index, y=missing_data['Percent'])\n",
        "plt.xlabel('Features', fontsize=15)\n",
        "plt.ylabel('Percent of missing values', fontsize=15)\n",
        "plt.title('Percent missing data by feature', fontsize=15)\n",
        "missing_data.head()"
      ],
      "metadata": {
        "colab": {
          "base_uri": "https://localhost:8080/",
          "height": 730
        },
        "id": "VlSUex65Ma8F",
        "outputId": "b9da3d81-6d47-4963-fb08-12a2c033bc2d"
      },
      "execution_count": null,
      "outputs": [
        {
          "output_type": "execute_result",
          "data": {
            "text/plain": [
              "                Total   Percent\n",
              "trans_currency  35135  0.731522\n",
              "date_1          33891  0.705621\n",
              "unknown_var_17  29501  0.614220\n",
              "unknown_var_4   27326  0.568936\n",
              "date_3          27136  0.564980"
            ],
            "text/html": [
              "\n",
              "  <div id=\"df-6f8a56e5-e417-4858-b64b-097539134827\">\n",
              "    <div class=\"colab-df-container\">\n",
              "      <div>\n",
              "<style scoped>\n",
              "    .dataframe tbody tr th:only-of-type {\n",
              "        vertical-align: middle;\n",
              "    }\n",
              "\n",
              "    .dataframe tbody tr th {\n",
              "        vertical-align: top;\n",
              "    }\n",
              "\n",
              "    .dataframe thead th {\n",
              "        text-align: right;\n",
              "    }\n",
              "</style>\n",
              "<table border=\"1\" class=\"dataframe\">\n",
              "  <thead>\n",
              "    <tr style=\"text-align: right;\">\n",
              "      <th></th>\n",
              "      <th>Total</th>\n",
              "      <th>Percent</th>\n",
              "    </tr>\n",
              "  </thead>\n",
              "  <tbody>\n",
              "    <tr>\n",
              "      <th>trans_currency</th>\n",
              "      <td>35135</td>\n",
              "      <td>0.731522</td>\n",
              "    </tr>\n",
              "    <tr>\n",
              "      <th>date_1</th>\n",
              "      <td>33891</td>\n",
              "      <td>0.705621</td>\n",
              "    </tr>\n",
              "    <tr>\n",
              "      <th>unknown_var_17</th>\n",
              "      <td>29501</td>\n",
              "      <td>0.614220</td>\n",
              "    </tr>\n",
              "    <tr>\n",
              "      <th>unknown_var_4</th>\n",
              "      <td>27326</td>\n",
              "      <td>0.568936</td>\n",
              "    </tr>\n",
              "    <tr>\n",
              "      <th>date_3</th>\n",
              "      <td>27136</td>\n",
              "      <td>0.564980</td>\n",
              "    </tr>\n",
              "  </tbody>\n",
              "</table>\n",
              "</div>\n",
              "      <button class=\"colab-df-convert\" onclick=\"convertToInteractive('df-6f8a56e5-e417-4858-b64b-097539134827')\"\n",
              "              title=\"Convert this dataframe to an interactive table.\"\n",
              "              style=\"display:none;\">\n",
              "        \n",
              "  <svg xmlns=\"http://www.w3.org/2000/svg\" height=\"24px\"viewBox=\"0 0 24 24\"\n",
              "       width=\"24px\">\n",
              "    <path d=\"M0 0h24v24H0V0z\" fill=\"none\"/>\n",
              "    <path d=\"M18.56 5.44l.94 2.06.94-2.06 2.06-.94-2.06-.94-.94-2.06-.94 2.06-2.06.94zm-11 1L8.5 8.5l.94-2.06 2.06-.94-2.06-.94L8.5 2.5l-.94 2.06-2.06.94zm10 10l.94 2.06.94-2.06 2.06-.94-2.06-.94-.94-2.06-.94 2.06-2.06.94z\"/><path d=\"M17.41 7.96l-1.37-1.37c-.4-.4-.92-.59-1.43-.59-.52 0-1.04.2-1.43.59L10.3 9.45l-7.72 7.72c-.78.78-.78 2.05 0 2.83L4 21.41c.39.39.9.59 1.41.59.51 0 1.02-.2 1.41-.59l7.78-7.78 2.81-2.81c.8-.78.8-2.07 0-2.86zM5.41 20L4 18.59l7.72-7.72 1.47 1.35L5.41 20z\"/>\n",
              "  </svg>\n",
              "      </button>\n",
              "      \n",
              "  <style>\n",
              "    .colab-df-container {\n",
              "      display:flex;\n",
              "      flex-wrap:wrap;\n",
              "      gap: 12px;\n",
              "    }\n",
              "\n",
              "    .colab-df-convert {\n",
              "      background-color: #E8F0FE;\n",
              "      border: none;\n",
              "      border-radius: 50%;\n",
              "      cursor: pointer;\n",
              "      display: none;\n",
              "      fill: #1967D2;\n",
              "      height: 32px;\n",
              "      padding: 0 0 0 0;\n",
              "      width: 32px;\n",
              "    }\n",
              "\n",
              "    .colab-df-convert:hover {\n",
              "      background-color: #E2EBFA;\n",
              "      box-shadow: 0px 1px 2px rgba(60, 64, 67, 0.3), 0px 1px 3px 1px rgba(60, 64, 67, 0.15);\n",
              "      fill: #174EA6;\n",
              "    }\n",
              "\n",
              "    [theme=dark] .colab-df-convert {\n",
              "      background-color: #3B4455;\n",
              "      fill: #D2E3FC;\n",
              "    }\n",
              "\n",
              "    [theme=dark] .colab-df-convert:hover {\n",
              "      background-color: #434B5C;\n",
              "      box-shadow: 0px 1px 3px 1px rgba(0, 0, 0, 0.15);\n",
              "      filter: drop-shadow(0px 1px 2px rgba(0, 0, 0, 0.3));\n",
              "      fill: #FFFFFF;\n",
              "    }\n",
              "  </style>\n",
              "\n",
              "      <script>\n",
              "        const buttonEl =\n",
              "          document.querySelector('#df-6f8a56e5-e417-4858-b64b-097539134827 button.colab-df-convert');\n",
              "        buttonEl.style.display =\n",
              "          google.colab.kernel.accessAllowed ? 'block' : 'none';\n",
              "\n",
              "        async function convertToInteractive(key) {\n",
              "          const element = document.querySelector('#df-6f8a56e5-e417-4858-b64b-097539134827');\n",
              "          const dataTable =\n",
              "            await google.colab.kernel.invokeFunction('convertToInteractive',\n",
              "                                                     [key], {});\n",
              "          if (!dataTable) return;\n",
              "\n",
              "          const docLinkHtml = 'Like what you see? Visit the ' +\n",
              "            '<a target=\"_blank\" href=https://colab.research.google.com/notebooks/data_table.ipynb>data table notebook</a>'\n",
              "            + ' to learn more about interactive tables.';\n",
              "          element.innerHTML = '';\n",
              "          dataTable['output_type'] = 'display_data';\n",
              "          await google.colab.output.renderOutput(dataTable, element);\n",
              "          const docLink = document.createElement('div');\n",
              "          docLink.innerHTML = docLinkHtml;\n",
              "          element.appendChild(docLink);\n",
              "        }\n",
              "      </script>\n",
              "    </div>\n",
              "  </div>\n",
              "  "
            ]
          },
          "metadata": {},
          "execution_count": 16
        },
        {
          "output_type": "display_data",
          "data": {
            "text/plain": [
              "<Figure size 1080x432 with 1 Axes>"
            ],
            "image/png": "[encoded data removed]"
          },
          "metadata": {
            "needs_background": "light"
          }
        }
      ]
    },
    {
      "cell_type": "code",
      "source": [],
      "metadata": {
        "id": "KVq7SblvNobr"
      },
      "execution_count": null,
      "outputs": []
    }
  ]
}